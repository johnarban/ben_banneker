{
 "cells": [
  {
   "cell_type": "code",
   "execution_count": 23,
   "metadata": {
    "collapsed": false
   },
   "outputs": [],
   "source": [
    "import matplotlib.pyplot as plt\n",
    "import numpy as np\n",
    "\n",
    "%matplotlib inline\n",
    "#only for jupyer notebook"
   ]
  },
  {
   "cell_type": "markdown",
   "metadata": {},
   "source": [
    "### Define random WCS header values\n",
    "\n",
    "You work with your header values already, so you don't need to worry about this. "
   ]
  },
  {
   "cell_type": "code",
   "execution_count": 63,
   "metadata": {
    "collapsed": true
   },
   "outputs": [],
   "source": [
    "# I am going to makeup a WCS transformation\n",
    "cdelt1 = .2 # pixel scale (say arcmin/pix)\n",
    "cdelt2 = .2\n",
    "\n",
    "crpix1 = 75 # reference pixel\n",
    "crpix2 = 50\n",
    "\n",
    "naxis1 = 150 # length of X-axis (axis1 is x)\n",
    "naxis2 = 100 # length of Y-axis \n",
    "\n",
    "crval1 = 23 # coordinate value on reference x pixel\n",
    "crval2 = 43 "
   ]
  },
  {
   "cell_type": "markdown",
   "metadata": {},
   "source": [
    "### Generate a fake image"
   ]
  },
  {
   "cell_type": "code",
   "execution_count": 55,
   "metadata": {
    "collapsed": false
   },
   "outputs": [],
   "source": [
    "w = np.mgrid[:naxis1,:naxis2][0] #first index is columns (x) second is rows (y)\n",
    "# this is a way to get indices for an array\n",
    "# I don't know if this is the proper usage\n",
    "# but it gives me something that I want"
   ]
  },
  {
   "cell_type": "markdown",
   "metadata": {},
   "source": [
    "### Image with normal axes. "
   ]
  },
  {
   "cell_type": "code",
   "execution_count": 54,
   "metadata": {
    "collapsed": false
   },
   "outputs": [
    {
     "data": {
      "text/plain": [
       "<matplotlib.text.Text at 0x118e21210>"
      ]
     },
     "execution_count": 54,
     "metadata": {},
     "output_type": "execute_result"
    },
    {
     "data": {
      "image/png": "[encoded data removed]",
      "text/plain": [
       "<matplotlib.figure.Figure at 0x1179abd90>"
      ]
     },
     "metadata": {},
     "output_type": "display_data"
    }
   ],
   "source": [
    "fig = plt.figure()\n",
    "ax = fig.add_subplot(111)\n",
    "\n",
    "ax.imshow(w.T, origin='lower');\n",
    "plt.title('Normal Axes')"
   ]
  },
  {
   "cell_type": "markdown",
   "metadata": {},
   "source": [
    "## Make fancy axes labels"
   ]
  },
  {
   "cell_type": "markdown",
   "metadata": {},
   "source": [
    "The first step is setup which ticks you want"
   ]
  },
  {
   "cell_type": "code",
   "execution_count": 64,
   "metadata": {
    "collapsed": true
   },
   "outputs": [],
   "source": [
    "# you already have this stuff coded if I recall correctly #\n",
    "# a good way to generate the list automatically is with linspace\n",
    "x_tick_pix = np.linspace(0,naxis1,6) #generate 6 values from 0 to naxis1 (150)\n",
    "x_tick_label = (x_tick_pix - crpix1)*cdelt1 + crval1\n",
    "\n",
    "y_tick_pix = np.linspace(0,naxis2,6) #generate 6 values from 0 to naxis2 (100)\n",
    "y_tick_label = (x_tick_pix - crpix2)*cdelt2 + crval2\n",
    "\n",
    "# =================================== #"
   ]
  },
  {
   "cell_type": "code",
   "execution_count": 67,
   "metadata": {
    "collapsed": false
   },
   "outputs": [
    {
     "data": {
      "image/png": "[encoded data removed]",
      "text/plain": [
       "<matplotlib.figure.Figure at 0x119a48d90>"
      ]
     },
     "metadata": {},
     "output_type": "display_data"
    }
   ],
   "source": [
    "fig = plt.figure()\n",
    "ax = fig.add_subplot(111)\n",
    "ax.imshow(w.T, origin='lower')\n",
    "\n",
    "# using plt will make changes to current plot\n",
    "plt.xticks(x_tick_pix, x_tick_label) # put ticks in specific locations# label ticks with values converted to wcs coords\n",
    "plt.yticks(y_tick_pix, y_tick_label)\n",
    "plt.title('Fancy Axes')\n",
    "plt.xlabel('Galactic Longitude (l) [degrees]')\n",
    "plt.ylabel('Galactic Latitude (b) [degrees]')\n",
    "\n",
    "None"
   ]
  },
  {
   "cell_type": "code",
   "execution_count": null,
   "metadata": {
    "collapsed": false
   },
   "outputs": [],
   "source": []
  },
  {
   "cell_type": "code",
   "execution_count": null,
   "metadata": {
    "collapsed": true
   },
   "outputs": [],
   "source": []
  }
 ],
 "metadata": {
  "kernelspec": {
   "display_name": "Python 2",
   "language": "python",
   "name": "python2"
  },
  "language_info": {
   "codemirror_mode": {
    "name": "ipython",
    "version": 2
   },
   "file_extension": ".py",
   "mimetype": "text/x-python",
   "name": "python",
   "nbconvert_exporter": "python",
   "pygments_lexer": "ipython2",
   "version": "2.7.11"
  }
 },
 "nbformat": 4,
 "nbformat_minor": 0
}
