{
 "cells": [
  {
   "cell_type": "markdown",
   "metadata": {},
   "source": [
    "Probabilities\n",
    "=============\n",
    "\n",
    "Bayes' Theorem\n",
    "--------------\n",
    "\n",
    "We are _Bayesian beings_. \n",
    "\n",
    "$$ I = \\text{information} $$\n",
    "$$ P = \\text{probability} $$\n",
    "\n",
    "\n",
    "## Rules of Probability\n",
    "\n",
    "Given $A$,$\\bar{A}$\n",
    "\n",
    "$$ p(\\bar{A}) = 1 - p(A) $$\n",
    "\n",
    "$p(A) \\equiv p(A|I)$ is a statement which can be written\n",
    "> The probability of A is defined as the probability of A _conditioned on_ I\n",
    "\n",
    "$p(A,B|I)$ is \"the probability of A _and_ B _conditioned on_ I\".\n",
    "\n",
    "\n",
    "### Example\n",
    "\n",
    "Imagine I have an entire universe, it is well studied. We are interested in the location of the red \"x\".\n",
    "<img src=\"https://docs.google.com/drawings/d/1bNLT4S7tTxHLuh3W61fNyL1m9BYqQAnBs3muSIA-i_A/pub?w=1036&h=710\" width=70%>\n",
    "\n",
    "#### Question 1. \n",
    "What is the probability that the x is in b?\n",
    "\n",
    "If x can be anywhere, then the probability that _x_ is in $B$ is given by the ratio of the area of $B$ to the area of the universe.\n",
    " - $p(\\,B\\,|\\,I\\,) = \\frac{1}{12}$\n",
    " \n",
    " \n",
    "#### Question 2.\n",
    "Are $A$ and $B$ commutative?\n",
    "$$ p(B,A|I)\\stackrel{?}{=} p(A,B|I) $$\n",
    "\n",
    "Yes!\n",
    "$$ p(B,A|I)= p(A,B|I) $$\n",
    "\n",
    "#### Assertion 1.\n",
    "I am going to assert that $$ p(B,A|I) = p(B|I)p(A|B,I) $$\n",
    "\n",
    "Is this true? Why?\n",
    "\n",
    "The probability $p(A|B,I) = 1$ because $B \\subset A$. If only a fraction $f$ of $B$ were in $A$, then $p(A|B,I)\\rightarrow f$, so $p(B,A|I) = f \\cdot p(B|I)$.\n",
    "\n",
    "<img src=\"https://docs.google.com/drawings/d/1JVktrm4VhyybTlPLs13SCEgIpacjB0Tn3v9Bn1gnz4g/pub?w=1036&h=710\" width=70%>\n",
    "\n",
    "$ p(B|I) = \\frac{2}{20} $\n",
    "\n",
    "$ p(A|B,I) = f = \\frac{1}{2}$\n",
    "\n",
    "$p(B,A,|I) = \\frac{1}{20} $\n",
    "\n",
    "We can find that $p(A,B|I)=p(A|I)p(B|A,I)$.\n",
    "\n",
    "Combining these two things together gives us Bayes' Theorem\n",
    "\n",
    "$$ p(A|B,I) = \\frac{p(A|I) p(B|A,I)}{p(B|I)} $$"
   ]
  },
  {
   "cell_type": "markdown",
   "metadata": {
    "collapsed": true
   },
   "source": [
    "Bayes' Theorem\n",
    "==============\n",
    "\n",
    "\n",
    "As physicsists, we have a hypothesis, $H$. Our hyposthesis is based on data, $D$, and information, $I$ that we have. These quantities are usually denoted as vectors. \n",
    "\n",
    "We might have a hypothesis that Saturn is a planet with some mass. We have data on Saturn and general information that it is a planet, it is made of hydrogen and helium. \n",
    "\n",
    "\n",
    "$$ p(\\vec{H}|\\vec{D},I) = \\frac{ p(\\vec{H}|I)\\ p(\\vec{D}|\\vec{H},I) }{ p(\\vec{D}|I) } $$\n",
    "\n",
    "$p(\\vec{D}|\\vec{H},I)$ is the probability we would get this data given our hypothesis and information. This is doable. Figuring out $p(\\vec{H}|\\vec{D},I)$ is a more difficult question, that is what everyone is looking for.\n",
    "\n",
    "\n",
    "Demonstration: Coin toss\n",
    "-------------\n",
    "If you assert a bad hypothesis (\"this is a rigged coin that will only return heads\") data can completely  refute that hypothesis (i.e, flip the coin and it turns _tails_, *_Boom_*, hypothesis refuted)\n",
    "\n",
    "\n",
    "Because $p(\\vec{D}|I)$ doesn't affect my hypothesis, I can rewrie Bayes' theorem as a proportionality\n",
    "\n",
    "$$ p(\\vec{H}|\\vec{D},I) = C\\ p(\\vec{H}|I)\\ p(\\vec{D}|\\vec{H},I)  $$\n",
    "\n",
    "$p(\\vec{H}|I)$ is your **prior** information, it is the probability my hypothesis is true given my information without any information. We allow our prior expectations to be modified by new data. This is the likelihood. \n",
    "\n",
    "$p(\\vec{D}|\\vec{H},I)$ is the **likelihood**. It describes how likely your data is given your hypothesis and informatoin.\n",
    "\n",
    "An analogy for our prior information being updated by new information is kind of like leaving the Matrix. Before leaving the matrix based on your prior information (i.e.; your life), you believe that you live in the real world. Your likelihood updates when Morpheus tells you, and you believe him a little more, but then you get spit out after taking a pill. Now your probability collapses and you know your previous life was not the real world.\n",
    "\n",
    "\n",
    "### Back to the coin toss\n",
    "Bias, if the coin is biased towards $T$, $B=0$, and if biased towards $H$, $B=1$. Our hypothesis is\n",
    "$$ \\vec{H} = \\{B\\} $$\n",
    "\n",
    "What is our _prior_? With enough data it almost doesn't matter what your prior is. It may be either a unit box, a gaussian, or something assymetric\n",
    "\n",
    "A prior should be normailzed \n",
    "$$\\int p(B|I) {\\rm d}B = 1 $$"
   ]
  },
  {
   "cell_type": "code",
   "execution_count": 833,
   "metadata": {
    "collapsed": false
   },
   "outputs": [],
   "source": [
    "import numpy as np\n",
    "import matplotlib.pyplot as plt\n",
    "\n",
    "plt.style.use(u'default')\n",
    "%matplotlib inline\n",
    "plt.style.use(u'ggplot')\n",
    "plt.style.use(u'seaborn-bright')"
   ]
  },
  {
   "cell_type": "markdown",
   "metadata": {},
   "source": [
    "Given a particular bias B, because we defined that $B=1$ for always heads, then\n",
    "$$h \\rightarrow B$$\n",
    "$$t \\rightarrow 1-B$$\n",
    "because there are only two choices. \n",
    "\n",
    "D    |   $L = p({D}|{B},I)$\n",
    "----:|:--------------------\n",
    "h    |   B\n",
    "t    |   (1-B)\n",
    "\n",
    "\n",
    "$p(\\{h,h\\}|B) = B\\cdot B$\n",
    "\n",
    "$p(\\{h,t\\}|B) = B\\cdot (1-B)$\n",
    "\n",
    "$p(\\{...\\}|B) = B^k\\cdot (1-B)^(n-k)$\n",
    "\n",
    "\n",
    "The log-likelihood would be\n",
    "$ \\log(B^k (1-B)^{(n-k)}) = k \\log{B} + (n-k)\\log{(1-B)} $"
   ]
  },
  {
   "cell_type": "code",
   "execution_count": 834,
   "metadata": {
    "collapsed": false
   },
   "outputs": [],
   "source": [
    "def prior(b,b_range=(0,1)):\n",
    "    '''\n",
    "    Encode a flat prior\n",
    "    We are not checking\n",
    "    for errors, instead we\n",
    "    assume humans are smart\n",
    "    '''\n",
    "    b = np.array([b]).flatten()\n",
    "    p = np.zeros_like(b)\n",
    "    p[np.abs(b)<=1] = 1\n",
    "    p[b<0] = 0\n",
    "    return p\n",
    "\n",
    "def logprior(b):\n",
    "    '''\n",
    "    Encode a flat prior\n",
    "    We are not checking\n",
    "    for errors, instead we\n",
    "    assume humans are smart\n",
    "    '''\n",
    "    return np.log(prior(b))\n",
    "\n",
    "'''\n",
    "def like_single_toss(d,b):\n",
    "    if d == 0:\n",
    "        return 1-b\n",
    "    if d == 1:\n",
    "        return b\n",
    "\n",
    "\n",
    "def loglike(data,bias):\n",
    "    data = np.array([data]).flatten()\n",
    "    bias = np.array([bias]).flatten()\n",
    "    L = np.sum([like_single_toss(d,bias) for d in data],axis=0)\n",
    "    return L\n",
    "'''\n",
    "\n",
    "def loglike(data,b,k=None,n=None):\n",
    "    '''\n",
    "    the Log-likelihood of the data\n",
    "    given our hypothesis\n",
    "    d is data\n",
    "    d = 0 for t\n",
    "    d = 1 for h\n",
    "    '''\n",
    "    if data is not None:\n",
    "        data = np.array([data]).flatten()\n",
    "        k = np.sum(data)\n",
    "        n = len(data)\n",
    "    else:\n",
    "        k = k\n",
    "        n = n\n",
    "    b = np.array([b]).flatten()\n",
    "    \n",
    "    return (np.log(b) * k) + np.log(1-b)*(n-k)\n",
    "\n",
    "\n",
    "def posterior(data,b,k=None,n=None):\n",
    "    if data is None:\n",
    "        post = loglike(data,b,k=k,n=n)\n",
    "    else:\n",
    "        post = loglike(data,b)\n",
    "    post = post + logprior(b)\n",
    "    post = post - np.max(post) \n",
    "    return np.exp(post)\n",
    "\n",
    "b = np.linspace(0.01,0.99,1000)"
   ]
  },
  {
   "cell_type": "markdown",
   "metadata": {},
   "source": [
    "## Plot of the Prior"
   ]
  },
  {
   "cell_type": "code",
   "execution_count": 835,
   "metadata": {
    "collapsed": false
   },
   "outputs": [
    {
     "data": {
      "image/png": "[encoded data removed]",
      "text/plain": [
       "<matplotlib.figure.Figure at 0x148254a90>"
      ]
     },
     "metadata": {},
     "output_type": "display_data"
    }
   ],
   "source": [
    "plt.plot(b,prior(b))\n",
    "plt.title('Prior')\n",
    "plt.xlabel('Bias')\n",
    "plt.xlim(-0.5,1.5)\n",
    "plt.ylim(-0.1,1.5);"
   ]
  },
  {
   "cell_type": "markdown",
   "metadata": {},
   "source": [
    "## Plot of likelihoods"
   ]
  },
  {
   "cell_type": "code",
   "execution_count": 836,
   "metadata": {
    "collapsed": false
   },
   "outputs": [
    {
     "data": {
      "text/plain": [
       "<matplotlib.text.Text at 0x147743890>"
      ]
     },
     "execution_count": 836,
     "metadata": {},
     "output_type": "execute_result"
    },
    {
     "data": {
      "image/png": "[encoded data removed]",
      "text/plain": [
       "<matplotlib.figure.Figure at 0x146db5d50>"
      ]
     },
     "metadata": {},
     "output_type": "display_data"
    }
   ],
   "source": [
    "plt.plot(b,np.exp(loglike(0,b)))\n",
    "plt.title('Likelihood (Heads)')\n",
    "plt.xlabel('Bias')\n",
    "\n",
    "plt.plot(b,np.exp(loglike(1.,b)))\n",
    "plt.title('Likelihood (Tails)')\n",
    "plt.xlabel('Bias')"
   ]
  },
  {
   "cell_type": "markdown",
   "metadata": {},
   "source": [
    "### Virtual Coin Toss\n",
    "\n",
    "We can run a virtual experiment. First let's plot the prior. Out prior information tells us that the coin has two sides, heads and tails, but we don't know if the coin is rigged. \n",
    "\n",
    "Our hypothesis in this experiment is our choice of the bias. So we want to find out, for a given set of data, what is the probability that the bias has a certain value. This probability is the _posterior distribution_ $$p(H|D,I)$$\n",
    "\n",
    "\n",
    "We then look at the the likelihood of heads and tails. In other words, we look at how consistent the data is with our hyptohesis and prexisting information. If the bias is strongly towards heads, a \"heads\" data point is very likely, while a \"tails\" data point is quite unlikely. \n"
   ]
  },
  {
   "cell_type": "code",
   "execution_count": 837,
   "metadata": {
    "collapsed": false
   },
   "outputs": [],
   "source": [
    "\n",
    "def some_tosses(data,b):\n",
    "    plt.figure(figsize=(12,4))\n",
    "\n",
    "    plt.subplot(121)\n",
    "    plt.plot(b,np.exp(loglike(data,b)))\n",
    "    plt.title('Likelihood (Heads)')\n",
    "    plt.xlabel('Bias')\n",
    "\n",
    "\n",
    "    plt.subplot(122)\n",
    "    plt.plot(b,posterior(data,b))\n",
    "    plt.title('Posterior Distrubution')\n",
    "    plt.xlabel('Bias')\n",
    "    plt.ylim(-0.01,1.1)\n",
    "    \n",
    "    return data,b,plt.gca()\n",
    "\n"
   ]
  },
  {
   "cell_type": "code",
   "execution_count": 838,
   "metadata": {
    "collapsed": false
   },
   "outputs": [
    {
     "data": {
      "image/png": "[encoded data removed]",
      "text/plain": [
       "<matplotlib.figure.Figure at 0x143e49a90>"
      ]
     },
     "metadata": {},
     "output_type": "display_data"
    }
   ],
   "source": [
    "data = [1,0,1]  #single coin toss\n",
    "\n",
    "fig, ax = plt.subplots()\n",
    "line, =ax.plot(b,posterior(data,b))\n",
    "ax.set_title('Posterior Distrubution')\n",
    "ax.set_xlabel('Bias')\n",
    "ax.set_ylim(-0.01,1.1);"
   ]
  },
  {
   "cell_type": "markdown",
   "metadata": {},
   "source": [
    "### Make an animation\n",
    "\n",
    "To see visually how adding data improves our posterior,\n",
    "we can plot the posterior for different values of $k$ and $n$\n",
    "assuming a constant bias. \n",
    "\n",
    "To figure this out, because I've never done this before I went through a tutorial by JakeVdP available at\n",
    "> [Matplotlib Animation Tutorial](https://jakevdp.github.io/blog/2012/08/18/matplotlib-animation-tutorial/)"
   ]
  },
  {
   "cell_type": "code",
   "execution_count": 839,
   "metadata": {
    "collapsed": false,
    "scrolled": true
   },
   "outputs": [],
   "source": [
    "import matplotlib.animation as anime #import animation library\n",
    "from IPython.display import HTML # have IPython display render HTML code"
   ]
  },
  {
   "cell_type": "code",
   "execution_count": 841,
   "metadata": {
    "collapsed": false
   },
   "outputs": [
    {
     "data": {
      "image/png": "[encoded data removed]",
      "text/plain": [
       "<matplotlib.figure.Figure at 0x13b671ed0>"
      ]
     },
     "metadata": {},
     "output_type": "display_data"
    }
   ],
   "source": [
    "#%%capture #hides uncessesary output. display.HTML still gets displayed\n",
    "\n",
    "#define list of biases\n",
    "b = np.linspace(0.01,0.99,10000)\n",
    "\n",
    "# create an initial figure and axis\n",
    "fig = plt.figure()\n",
    "ax = plt.axes(xlim=(0,1), ylim=(0,1.1))\n",
    "line, = ax.plot([],[]) \n",
    "\n",
    "\n",
    "def init():\n",
    "    '''\n",
    "    this function initialized the animation\n",
    "    by clearing any data that may be on it\n",
    "    and adding any permanent elements\n",
    "    '''\n",
    "    line.set_data(b,posterior(None,b,k=1,n=1)) # clear any plotted lines\n",
    "    ax.vlines(1./3.,0,1) # add a vertical line at the right answer\n",
    "    ax.set_title('Posterior Distribution (Bias = 1/3)')\n",
    "    return line,\n",
    "\n",
    "    \n",
    "def animate(i):\n",
    "    '''\n",
    "    what we want to do for each step\n",
    "    I want to overplot a new posterior\n",
    "    for each new set of rolls\n",
    "    '''\n",
    "    #the number of rolls is i\n",
    "    n = i \n",
    "    #I want the first roll to be heads. n/3 only returns the integer part\n",
    "    y = posterior(None,b,k=1+n/3,n=n)\n",
    "    #plot the data. to clear and draw new line do line.set_data(b,y)\n",
    "    line.axes.plot(b,y)\n",
    "    # add a legend incrementally. \n",
    "    line.axes.legend(['n=%4i'%j for j in [1,3,10,50,100] if j<=i],loc='upper left',fontsize=11)\n",
    "    return line,\n",
    "\n",
    "anim = anime.FuncAnimation(fig, animate, init_func=init,\n",
    "                               frames=[3,10,50,100], interval=1000, blit=True)\n",
    "\n",
    "anim.save('anim.mp4',dpi=300, fps=1, extra_args=['-vcodec', 'libx264'])\n",
    "\n",
    "#HTML(\"<video width='75%' controls><source src='./anim.mp4' type='video/mp4'></video>\")"
   ]
  },
  {
   "cell_type": "code",
   "execution_count": null,
   "metadata": {
    "collapsed": true
   },
   "outputs": [],
   "source": []
  }
 ],
 "metadata": {
  "kernelspec": {
   "display_name": "Python 2",
   "language": "python",
   "name": "python2"
  },
  "language_info": {
   "codemirror_mode": {
    "name": "ipython",
    "version": 2
   },
   "file_extension": ".py",
   "mimetype": "text/x-python",
   "name": "python",
   "nbconvert_exporter": "python",
   "pygments_lexer": "ipython2",
   "version": "2.7.11"
  }
 },
 "nbformat": 4,
 "nbformat_minor": 0
}
